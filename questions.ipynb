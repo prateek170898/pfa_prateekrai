{
 "cells": [
  {
   "cell_type": "code",
   "execution_count": 4,
   "id": "bd3ba7e3",
   "metadata": {},
   "outputs": [
    {
     "name": "stdout",
     "output_type": "stream",
     "text": [
      "Enter the number of elements in the list: 3\n",
      "Enter the elements: one \n",
      "Enter the elements: two\n",
      "Enter the elements: three\n",
      "['one ', 'two', 'three']\n",
      "['three', 'two', 'one ']\n"
     ]
    }
   ],
   "source": [
    "#question1\n",
    "l=[]\n",
    "x=int(input(\"Enter the number of elements in the list: \"))\n",
    "for i in range(x):\n",
    "    m=input('Enter the elements: ')\n",
    "    l.append(m)\n",
    "print(l)\n",
    "first=l[0]\n",
    "l[0]=l[-1]\n",
    "l[-1]=first\n",
    "print(l)"
   ]
  },
  {
   "cell_type": "code",
   "execution_count": 5,
   "id": "3c8bbe78",
   "metadata": {},
   "outputs": [
    {
     "name": "stdout",
     "output_type": "stream",
     "text": [
      "5\n"
     ]
    }
   ],
   "source": [
    "#question2\n",
    "x=[1,4,5,7,8]\n",
    "print(len(x))"
   ]
  },
  {
   "cell_type": "code",
   "execution_count": 1,
   "id": "04e004bb",
   "metadata": {},
   "outputs": [
    {
     "name": "stdout",
     "output_type": "stream",
     "text": [
      "['geeks', 'are', 'for', 'geeks']\n",
      "length of the list 4\n"
     ]
    }
   ],
   "source": [
    "#question3\n",
    "x=[]\n",
    "x.append(\"geeks\")\n",
    "x.append(\"are\")\n",
    "x.append(\"for\")\n",
    "x.append(\"geeks\")\n",
    "print(x)\n",
    "print(\"length of the list\",len(x))"
   ]
  },
  {
   "cell_type": "code",
   "execution_count": 3,
   "id": "cee96ae3",
   "metadata": {},
   "outputs": [
    {
     "name": "stdout",
     "output_type": "stream",
     "text": [
      "Enter the 1st nuber: 5\n",
      "Enter the 2nd number: 8\n",
      "[5.0, 8.0]\n",
      "8.0\n",
      "5.0\n"
     ]
    }
   ],
   "source": [
    "#question4\n",
    "x=float(input(\"Enter the 1st nuber: \"))\n",
    "y=float(input(\"Enter the 2nd number: \"))\n",
    "z=[]\n",
    "z.append(x)\n",
    "z.append(y)\n",
    "print(z)\n",
    "print(max(z))\n",
    "print(min(z))"
   ]
  }
 ],
 "metadata": {
  "kernelspec": {
   "display_name": "Python 3",
   "language": "python",
   "name": "python3"
  },
  "language_info": {
   "codemirror_mode": {
    "name": "ipython",
    "version": 3
   },
   "file_extension": ".py",
   "mimetype": "text/x-python",
   "name": "python",
   "nbconvert_exporter": "python",
   "pygments_lexer": "ipython3",
   "version": "3.8.8"
  }
 },
 "nbformat": 4,
 "nbformat_minor": 5
}
